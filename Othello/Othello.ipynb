{
 "cells": [
  {
   "cell_type": "code",
   "execution_count": 39,
   "metadata": {},
   "outputs": [
    {
     "name": "stdout",
     "output_type": "stream",
     "text": [
      "[0, 0, 0, 0, 0, 0, 0, 0, 0, 0, 0, 0]\n",
      "[0, 0, 0, 0, 0, 0, 0, 0, 0, 0, 0, 0]\n",
      "[0, 0, -1, 1, 0, 0, 0, 0, 0, 0, 0, 0]\n",
      "[0, 0, 1, 1, 0, 0, 0, 0, 0, 0, 0, 0]\n",
      "[0, 0, 0, 1, 0, 0, 0, 0, 0, 0, 0, 0]\n",
      "[0, 0, 0, 0, 0, 0, 0, 0, 0, 0, 0, 0]\n",
      "[0, 0, 0, 0, 0, 0, 0, 0, 0, 0, 0, -1]\n",
      "[0, 0, 0, 0, 0, 0, 0, 0, 0, 0, -1, 0]\n",
      "[0, 0, 0, 0, 0, 0, 0, 0, -1, -1, -1, 0]\n",
      "[0, 0, 0, 0, 0, 0, 0, 0, -1, -1, 0, 0]\n",
      "[0, 0, 0, 0, 0, 0, 0, 0, -1, 1, 0, 0]\n",
      "[0, 0, 0, 0, 0, 0, 0, 0, 0, 0, 0, 0]\n"
     ]
    }
   ],
   "source": [
    "import math \n",
    "\n",
    "def read_board(filename):\n",
    "    with open(filename, 'r') as file:\n",
    "        lines = file.readlines()\n",
    "    color = lines[0].strip()\n",
    "    if color == 'O':\n",
    "        color = 1\n",
    "    else:\n",
    "        color = -1\n",
    "    lines = lines[2:]\n",
    "    size = len(lines)\n",
    "    board = [[0] * size for _ in range(size)]\n",
    "    for i in range(size):\n",
    "        for j in range(size):\n",
    "            if lines[i][j] == 'O':\n",
    "                board[i][j] = 1\n",
    "            elif lines[i][j] == 'X':\n",
    "                board[i][j] = -1\n",
    "    return board, color\n",
    "\n",
    "def check_num_flips(position, color, board):\n",
    "    num_flips = 0\n",
    "    directions = [(0, 1), (0, -1), (1, 0), (-1, 0), (1, 1), (-1, -1), (1, -1), (-1, 1)]\n",
    "    for dir in directions:\n",
    "        dx, dy = dir\n",
    "        x, y = position\n",
    "        x += dx\n",
    "        y += dy\n",
    "        while 0 <= x < len(board) and 0 <= y < len(board[0]) and board[x][y] == -color:\n",
    "            x += dx\n",
    "            y += dy\n",
    "        if 0 <= x < len(board) and 0 <= y < len(board[0]) and board[x][y] == color:\n",
    "            while True:\n",
    "                x -= dx\n",
    "                y -= dy\n",
    "                if (x, y) == position:\n",
    "                    break\n",
    "                num_flips += 1\n",
    "    return num_flips\n",
    "    \n",
    "def take_step(position, color, board):\n",
    "    new_board = [row[:] for row in board]\n",
    "    x, y = position\n",
    "    new_board[x][y] = color\n",
    "    directions = [(0, 1), (0, -1), (1, 0), (-1, 0), (1, 1), (-1, -1), (1, -1), (-1, 1)]\n",
    "    for dir in directions:\n",
    "        dx, dy = dir\n",
    "        nx, ny = x + dx, y + dy\n",
    "        while 0 <= nx < len(board) and 0 <= ny < len(board[0]) and board[nx][ny] == -color:\n",
    "            nx += dx\n",
    "            ny += dy\n",
    "        if 0 <= nx < len(board) and 0 <= ny < len(board[0]) and board[nx][ny] == color:\n",
    "            while (nx, ny) != position:\n",
    "                nx -= dx\n",
    "                ny -= dy\n",
    "                new_board[nx][ny] = color\n",
    "    return new_board\n",
    "\n",
    "def check_stable_direction(board, color, position):\n",
    "    x, y = position\n",
    "    directions = [(0, 1), (0, -1), (1, 0), (-1, 0), (1, 1), (-1, -1), (1, -1), (-1, 1)]\n",
    "    stable_directions = [(0, 1), (0, -1), (1, 0), (-1, 0), (1, 1), (-1, -1), (1, -1), (-1, 1)]\n",
    "    for dir in directions:\n",
    "        dx, dy = dir\n",
    "        nx, ny = x + dx, y + dy\n",
    "        while 0 <= nx < len(board) and 0 <= ny < len(board[0]):\n",
    "            if board[nx][ny] == color:\n",
    "                nx += dx\n",
    "                ny += dy\n",
    "            else:\n",
    "                stable_directions.remove(dir)\n",
    "                break\n",
    "    return stable_directions\n",
    "\n",
    "def direction_stable_3(stable_direction):\n",
    "    stable = [[(1,0),(1,1),(0,1)],[(0,1),(-1,1),(-1,0)],[(-1,0),(-1,-1),(0,-1)],[(0,-1),(1,-1),(1,0)]]\n",
    "    for direction in stable:\n",
    "        if all(dir in stable_direction for dir in direction):\n",
    "            return True\n",
    "    return False\n",
    "            \n",
    "\n",
    "def check_stability(board, color, position):\n",
    "    x, y = position\n",
    "    new_board = take_step(position, color, board)\n",
    "    stable_direction = check_stable_direction(new_board, color, position)\n",
    "    if (x, y) in [(0, 0), (0, 11), (11, 0), (11, 11)]:\n",
    "        return True\n",
    "    elif x == 0 or x == 11:\n",
    "        if (0, 1) in stable_direction or (0, -1) in stable_direction:\n",
    "            return True\n",
    "    elif y == 0 or y == 11:\n",
    "        if (1, 0) in stable_direction or (-1, 0) in stable_direction:\n",
    "            return True\n",
    "    else:\n",
    "        if direction_stable_3(stable_direction):\n",
    "            return True\n",
    "    return False\n",
    "\n",
    "def get_candidates(board, color, all_positions):\n",
    "    candidates = []\n",
    "    for position in all_positions:\n",
    "        x,y = position\n",
    "        flips = check_num_flips(position, color, board)\n",
    "        if flips > 0 and board[x][y] == 0:\n",
    "            candidates.append(position)\n",
    "    return candidates\n",
    "\n",
    "def get_candidates_flips(board, candidates):\n",
    "    candidate_flips = {}\n",
    "    for position in candidates:\n",
    "        flips = check_num_flips(position, color, board)\n",
    "        if flips > 0:\n",
    "            candidate_flips[position] = flips\n",
    "    return candidate_flips\n",
    "\n",
    "def get_self_mobility(board, color, candidates, all_positions):\n",
    "    self_mobility = {}\n",
    "    for candidate in candidates:\n",
    "        new_board = take_step(candidate, color, board)\n",
    "        self_mobility[candidate] = len(get_candidates(new_board, color, all_positions))\n",
    "    return self_mobility\n",
    "\n",
    "def get_best_self_mobility(board, color, position, all_positions):\n",
    "    new_board = take_step(position, color, board)\n",
    "    opponent_candidates = get_candidates(new_board, -color, all_positions)\n",
    "    all_self = get_opponent_mobility(new_board, -color, opponent_candidates, all_positions)\n",
    "    best_self = all_self[max(all_self)]\n",
    "    return best_self\n",
    "\n",
    "def get_opponent_mobility(board, color, candidates, all_positions):\n",
    "    opponent_mobility = {}\n",
    "    for candidate in candidates:\n",
    "        new_board = take_step(candidate, color, board)\n",
    "        opponent_mobility[candidate] = len(get_candidates(new_board, -color, all_positions))\n",
    "    return opponent_mobility\n",
    "\n",
    "def step2_best_position(board, color, candidates, all_positions):\n",
    "    best_positions = {}\n",
    "    for candidate in candidates:\n",
    "        best_positions[candidate] = get_best_self_mobility(board, color, candidate, all_positions)\n",
    "    best_position = max(best_positions)\n",
    "    return best_position\n",
    "\n",
    "def has_self_mobility(board, color, position, all_positions):\n",
    "    new_board = take_step(position, color, board)\n",
    "    opponent_candidates = get_candidates(new_board, -color, all_positions)\n",
    "    all_self = get_opponent_mobility(new_board, -color, opponent_candidates, all_positions)\n",
    "    if all_self[min(all_self)]==0:\n",
    "        return False\n",
    "    return True\n",
    "\n",
    "def output_file(output_filename, position):\n",
    "    x , y = position\n",
    "    row = ['a','b','c','d','e','f','g','h','i','j','k','l']\n",
    "    column = ['1','2','3','4','5','6','7','8','9','10','11','12']\n",
    "    output = row[y] + column[x]\n",
    "    with open(output_filename, 'w') as file:\n",
    "        file.write(output)\n",
    "\n",
    "def get_board_occupancy(board):\n",
    "    count = 0\n",
    "    for row in board:\n",
    "        for i in row:\n",
    "            if i != 0:\n",
    "                count = count + 1\n",
    "    return count\n",
    "\n",
    "def get_best_move(board, color, candidates, all_positions):\n",
    "        opponent_mobility = get_opponent_mobility(board, color, candidates, all_positions)\n",
    "        min_opponent_mobility = min(opponent_mobility.values())\n",
    "        min_opponent_positions = [key for key, value in opponent_mobility.items() if value == min_opponent_mobility]\n",
    "        best_move = step2_best_position(board, color, min_opponent_positions, all_positions)\n",
    "        return best_move\n",
    "\n",
    "# Example usage:\n",
    "input_filename = 'testing_input.txt'\n",
    "board, color = read_board(input_filename)\n",
    "opponent_color = -color\n",
    "for row in board:\n",
    "    print(row)\n"
   ]
  },
  {
   "cell_type": "code",
   "execution_count": 40,
   "metadata": {},
   "outputs": [
    {
     "name": "stdout",
     "output_type": "stream",
     "text": [
      "[(0, 0), (0, 1), (0, 2), (0, 3), (0, 4), (0, 5), (0, 6), (0, 7), (0, 8), (0, 9), (0, 10), (0, 11), (1, 0), (1, 1), (1, 2), (1, 3), (1, 4), (1, 5), (1, 6), (1, 7), (1, 8), (1, 9), (1, 10), (1, 11), (2, 0), (2, 1), (2, 2), (2, 3), (2, 4), (2, 5), (2, 6), (2, 7), (2, 8), (2, 9), (2, 10), (2, 11), (3, 0), (3, 1), (3, 2), (3, 3), (3, 4), (3, 5), (3, 6), (3, 7), (3, 8), (3, 9), (3, 10), (3, 11), (4, 0), (4, 1), (4, 2), (4, 3), (4, 4), (4, 5), (4, 6), (4, 7), (4, 8), (4, 9), (4, 10), (4, 11), (5, 0), (5, 1), (5, 2), (5, 3), (5, 4), (5, 5), (5, 6), (5, 7), (5, 8), (5, 9), (5, 10), (5, 11), (6, 0), (6, 1), (6, 2), (6, 3), (6, 4), (6, 5), (6, 6), (6, 7), (6, 8), (6, 9), (6, 10), (6, 11), (7, 0), (7, 1), (7, 2), (7, 3), (7, 4), (7, 5), (7, 6), (7, 7), (7, 8), (7, 9), (7, 10), (7, 11), (8, 0), (8, 1), (8, 2), (8, 3), (8, 4), (8, 5), (8, 6), (8, 7), (8, 8), (8, 9), (8, 10), (8, 11), (9, 0), (9, 1), (9, 2), (9, 3), (9, 4), (9, 5), (9, 6), (9, 7), (9, 8), (9, 9), (9, 10), (9, 11), (10, 0), (10, 1), (10, 2), (10, 3), (10, 4), (10, 5), (10, 6), (10, 7), (10, 8), (10, 9), (10, 10), (10, 11), (11, 0), (11, 1), (11, 2), (11, 3), (11, 4), (11, 5), (11, 6), (11, 7), (11, 8), (11, 9), (11, 10), (11, 11)]\n"
     ]
    }
   ],
   "source": [
    "all_positions = []\n",
    "for i in range(0, len(board)):\n",
    "    for j in range(0, len(board[0])):\n",
    "        all_positions.append((i,j))\n",
    "print(all_positions)\n"
   ]
  },
  {
   "cell_type": "code",
   "execution_count": 41,
   "metadata": {},
   "outputs": [
    {
     "name": "stdout",
     "output_type": "stream",
     "text": [
      "[0, 0, 0, 0, 0, 0, 0, 0, 0, 0, 0, 0]\n",
      "[0, 0, 0, 1, 0, 0, 0, 0, 0, 0, 0, 0]\n",
      "[0, 0, -1, 1, 0, 0, 0, 0, 0, 0, 0, 0]\n",
      "[0, 0, 1, 1, 0, 0, 0, 0, 0, 0, 0, 0]\n",
      "[0, 0, 0, 1, 0, 0, 0, 0, 0, 0, 0, 0]\n",
      "[0, 0, 0, 0, 0, 0, 0, 0, 0, 0, 0, 0]\n",
      "[0, 0, 0, 0, 0, 0, 0, 0, 0, 0, 0, -1]\n",
      "[0, 0, 0, 0, 0, 0, 0, 0, 0, 0, -1, 0]\n",
      "[0, 0, 0, 0, 0, 0, 0, 0, -1, -1, -1, 0]\n",
      "[0, 0, 0, 0, 0, 0, 0, 0, -1, -1, 0, 0]\n",
      "[0, 0, 0, 0, 0, 0, 0, 0, -1, 1, 0, 0]\n",
      "[0, 0, 0, 0, 0, 0, 0, 0, 0, 0, 0, 0]\n",
      "[]\n",
      "False\n"
     ]
    }
   ],
   "source": [
    "pos = (1, 3)\n",
    "new_board = take_step(pos, color, board)\n",
    "for row in new_board:\n",
    "    print(row)\n",
    "x = check_stable_direction(board, color, pos)\n",
    "print(x)\n",
    "a = check_stability(board, color, pos)\n",
    "print(a)\n"
   ]
  },
  {
   "cell_type": "code",
   "execution_count": 42,
   "metadata": {},
   "outputs": [
    {
     "name": "stdout",
     "output_type": "stream",
     "text": [
      "[(1, 1), (1, 2), (2, 1), (7, 9), (8, 7), (10, 7)]\n"
     ]
    }
   ],
   "source": [
    "candidates = get_candidates(board, color, all_positions)\n",
    "candidate_flips = get_candidates_flips(board, candidates)\n",
    "print(candidates)\n"
   ]
  },
  {
   "cell_type": "code",
   "execution_count": 43,
   "metadata": {},
   "outputs": [
    {
     "name": "stdout",
     "output_type": "stream",
     "text": [
      "d3\n"
     ]
    }
   ],
   "source": [
    "position = (2,3)\n",
    "x , y = position\n",
    "row = ['a','b','c','d','e','f','g','h','i','j','k','l']\n",
    "column = ['1','2','3','4','5','6','7','8','9','10','11','12']\n",
    "output = row[y] + column[x]\n",
    "print(output)"
   ]
  },
  {
   "cell_type": "code",
   "execution_count": 44,
   "metadata": {},
   "outputs": [
    {
     "data": {
      "text/plain": [
       "(10, 7)"
      ]
     },
     "execution_count": 44,
     "metadata": {},
     "output_type": "execute_result"
    }
   ],
   "source": [
    "step2_best_position(board, color, candidates, all_positions)"
   ]
  },
  {
   "cell_type": "code",
   "execution_count": 45,
   "metadata": {},
   "outputs": [
    {
     "name": "stdout",
     "output_type": "stream",
     "text": [
      "[(1, 1), (1, 2), (2, 1)]\n",
      "{(1, 1): 3, (1, 2): 3, (2, 1): 3, (7, 9): 9, (8, 7): 8, (10, 7): 8}\n"
     ]
    }
   ],
   "source": [
    "d = get_self_mobility(board, color, candidates, all_positions)\n",
    "x = min(d.values())\n",
    "min_keys = [key for key, value in d.items() if value == x] \n",
    "print(min_keys)\n",
    "\n",
    "o = get_opponent_mobility(board, color, candidates, all_positions)\n",
    "print(o)\n"
   ]
  },
  {
   "cell_type": "code",
   "execution_count": 46,
   "metadata": {},
   "outputs": [],
   "source": [
    "output_filename = 'output.txt'\n",
    "for position in candidates:\n",
    "    if check_stability(board, color, position) and has_self_mobility(board, color, position, all_positions):\n",
    "        output_file(output_filename, position)\n",
    "        break\n",
    "    elif position[0] not in [1,3,8,10] or position[1] not in [1,3,8,10]:\n",
    "        output = get_best_move(board, color, candidates, all_positions)\n",
    "        output_file(output_filename, output)\n",
    "        break\n",
    "    elif position[0] not in [1,10] or position[1] not in [1,10]:\n",
    "        output = get_best_move(board, color, candidates, all_positions)\n",
    "        output_file(output_filename, output)\n",
    "        break\n",
    "    else:\n",
    "        output = get_best_move(board, color, candidates, all_positions)\n",
    "        output_file(output_filename, output)\n",
    "        break\n",
    "        "
   ]
  }
 ],
 "metadata": {
  "kernelspec": {
   "display_name": "base",
   "language": "python",
   "name": "python3"
  },
  "language_info": {
   "codemirror_mode": {
    "name": "ipython",
    "version": 3
   },
   "file_extension": ".py",
   "mimetype": "text/x-python",
   "name": "python",
   "nbconvert_exporter": "python",
   "pygments_lexer": "ipython3",
   "version": "3.9.18"
  }
 },
 "nbformat": 4,
 "nbformat_minor": 2
}
